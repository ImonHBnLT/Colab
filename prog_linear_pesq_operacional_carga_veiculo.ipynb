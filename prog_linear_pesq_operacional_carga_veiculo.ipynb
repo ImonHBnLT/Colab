{
  "nbformat": 4,
  "nbformat_minor": 0,
  "metadata": {
    "colab": {
      "provenance": [],
      "name": "prog_linear_pesq_operacional_carga_veiculo.ipynb",
      "authorship_tag": "ABX9TyMNWMR3yDbeH4ws9MQ++wUo",
      "include_colab_link": true
    },
    "kernelspec": {
      "name": "python3",
      "display_name": "Python 3"
    },
    "language_info": {
      "name": "python"
    }
  },
  "cells": [
    {
      "cell_type": "markdown",
      "metadata": {
        "id": "view-in-github",
        "colab_type": "text"
      },
      "source": [
        "<a href=\"https://colab.research.google.com/github/ImonHBnLT/Colab/blob/main/prog_linear_pesq_operacional_carga_veiculo.ipynb\" target=\"_parent\"><img src=\"https://colab.research.google.com/assets/colab-badge.svg\" alt=\"Open In Colab\"/></a>"
      ]
    },
    {
      "cell_type": "code",
      "source": [
        "!pip install gurobipy"
      ],
      "metadata": {
        "colab": {
          "base_uri": "https://localhost:8080/"
        },
        "id": "VE8JUpwOLWBq",
        "outputId": "8d565a78-c105-42b3-ee36-b900b0358521"
      },
      "execution_count": 1,
      "outputs": [
        {
          "output_type": "stream",
          "name": "stdout",
          "text": [
            "Collecting gurobipy\n",
            "  Downloading gurobipy-11.0.3-cp310-cp310-manylinux2014_x86_64.manylinux_2_17_x86_64.whl.metadata (15 kB)\n",
            "Downloading gurobipy-11.0.3-cp310-cp310-manylinux2014_x86_64.manylinux_2_17_x86_64.whl (13.4 MB)\n",
            "\u001b[2K   \u001b[90m━━━━━━━━━━━━━━━━━━━━━━━━━━━━━━━━━━━━━━━━\u001b[0m \u001b[32m13.4/13.4 MB\u001b[0m \u001b[31m20.0 MB/s\u001b[0m eta \u001b[36m0:00:00\u001b[0m\n",
            "\u001b[?25hInstalling collected packages: gurobipy\n",
            "Successfully installed gurobipy-11.0.3\n"
          ]
        }
      ]
    },
    {
      "cell_type": "code",
      "execution_count": 18,
      "metadata": {
        "id": "VRAHz2L7EoBH",
        "colab": {
          "base_uri": "https://localhost:8080/"
        },
        "outputId": "d525e976-ad90-4bb4-de7a-f45b7be8ce54"
      },
      "outputs": [
        {
          "output_type": "stream",
          "name": "stdout",
          "text": [
            "Peso Máximo suportado no veículo: 50\n",
            "Número de itens disponíveis: 200\n",
            "Peso dos itens em ordem[4, 7, 5, 20, 4, 1, 7, 12, 6, 7, 11, 9, 11, 11, 1, 12, 13, 10, 8, 11, 19, 20, 6, 6, 17, 4, 5, 11, 7, 9, 19, 6, 19, 4, 14, 12, 11, 15, 18, 14, 17, 9, 14, 12, 2, 13, 7, 2, 7, 1, 5, 4, 7, 13, 4, 12, 18, 5, 10, 14, 17, 18, 7, 11, 20, 8, 12, 5, 1, 15, 5, 8, 7, 16, 8, 15, 18, 3, 6, 10, 11, 19, 18, 1, 13, 15, 10, 12, 6, 11, 17, 20, 4, 16, 14, 1, 1, 5, 5, 3, 14, 17, 10, 3, 15, 10, 13, 19, 20, 5, 14, 9, 12, 11, 16, 10, 2, 16, 6, 7, 4, 17, 4, 17, 10, 13, 5, 14, 2, 16, 16, 8, 13, 17, 19, 10, 16, 3, 4, 6, 12, 6, 12, 17, 17, 3, 20, 14, 9, 12, 12, 18, 15, 14, 10, 2, 8, 13, 4, 7, 16, 11, 18, 14, 13, 14, 3, 18, 7, 1, 20, 4, 5, 18, 19, 20, 18, 5, 17, 19, 12, 4, 10, 10, 7, 20, 19, 20, 2, 9, 7, 6, 5, 12, 12, 12, 16, 18, 14, 8]\n",
            "Valor dos itens em ordem [24, 41, 10, 47, 32, 35, 28, 13, 19, 24, 48, 17, 11, 31, 23, 11, 24, 41, 49, 49, 26, 28, 29, 40, 28, 23, 41, 38, 11, 35, 13, 31, 23, 39, 45, 46, 23, 25, 49, 19, 43, 32, 18, 43, 17, 29, 42, 48, 35, 42, 13, 20, 40, 21, 17, 11, 44, 39, 48, 25, 15, 45, 27, 45, 12, 28, 14, 24, 28, 15, 30, 35, 22, 27, 38, 18, 19, 13, 42, 19, 24, 43, 26, 50, 13, 29, 16, 39, 50, 43, 32, 49, 33, 24, 49, 33, 36, 17, 10, 19, 22, 29, 18, 41, 42, 18, 27, 19, 50, 38, 10, 44, 37, 19, 33, 48, 38, 29, 46, 46, 49, 49, 14, 48, 16, 45, 44, 27, 26, 23, 31, 25, 48, 16, 42, 48, 34, 25, 41, 50, 26, 31, 24, 38, 40, 20, 32, 44, 30, 39, 13, 35, 31, 17, 44, 50, 10, 22, 15, 38, 24, 19, 45, 48, 33, 50, 26, 31, 30, 12, 16, 36, 19, 14, 30, 21, 16, 50, 44, 44, 24, 16, 10, 37, 24, 34, 10, 32, 13, 15, 37, 10, 38, 13, 36, 26, 20, 25, 12, 50]\n",
            "Quantidade disponível em ordem: [17, 9, 7, 19, 16, 6, 18, 11, 17, 20, 19, 15, 9, 20, 15, 7, 9, 19, 7, 19, 19, 16, 16, 17, 20, 7, 19, 19, 20, 12, 11, 8, 11, 15, 16, 19, 12, 20, 8, 18, 9, 18, 7, 12, 5, 9, 14, 13, 13, 11, 10, 19, 12, 13, 9, 12, 14, 15, 18, 5, 6, 13, 15, 5, 9, 8, 7, 15, 11, 20, 17, 13, 15, 19, 14, 9, 8, 7, 16, 16, 12, 15, 9, 17, 18, 19, 18, 17, 18, 16, 16, 5, 18, 17, 8, 9, 17, 8, 10, 11, 6, 6, 5, 12, 18, 7, 9, 9, 6, 12, 17, 12, 8, 10, 5, 17, 13, 6, 12, 12, 11, 14, 14, 18, 12, 12, 5, 19, 14, 10, 9, 12, 7, 7, 18, 20, 5, 13, 18, 14, 5, 8, 14, 8, 18, 20, 7, 13, 7, 15, 8, 9, 18, 8, 10, 12, 20, 20, 5, 7, 5, 15, 6, 17, 19, 6, 7, 6, 15, 15, 18, 20, 11, 17, 20, 19, 12, 17, 19, 16, 7, 17, 16, 14, 15, 15, 14, 15, 12, 20, 12, 20, 15, 10, 10, 20, 17, 11, 14, 17]\n"
          ]
        }
      ],
      "source": [
        "#Trabalho 1-\tExercício  1:\n",
        "#a)\n",
        "\n",
        "# Cria função para ler dados do txt\n",
        "def ler_dados(arquivo):\n",
        "  with open(arquivo, 'r') as f:\n",
        "    linhas = f.readlines()\n",
        "  Pmax = int(linhas[0].strip()) # Peso máximo\n",
        "  n = int(linhas[1].strip()) # Itens disponiveis\n",
        "  P = [] # Peso do produto\n",
        "  V = [] # Valor do produto\n",
        "  Q = [] # Quantidade do produto\n",
        "\n",
        "  for i in range(2, 2+n): # Leitura das informações dos itens\n",
        "    p, v, q = map(int, linhas[i].split())\n",
        "    P.append(p)\n",
        "    V.append(v)\n",
        "    Q.append(q)\n",
        "\n",
        "  return n, Pmax, P, V, Q\n",
        "\n",
        "arquivo='dados.txt'\n",
        "n, Pmax, P, V, Q = ler_dados(arquivo)\n",
        "\n",
        "print(\"Peso Máximo suportado no veículo: {}\".format(Pmax))\n",
        "print(\"Número de itens disponíveis: {}\".format(n))\n",
        "print(\"Peso dos itens em ordem{}\".format(P))\n",
        "print(\"Valor dos itens em ordem {}\".format(V))\n",
        "print(\"Quantidade disponível em ordem: {}\".format(Q))"
      ]
    },
    {
      "cell_type": "code",
      "source": [
        "#Trabalho 1- Exercício 1:\n",
        "#a)\n",
        "\n",
        "import gurobipy as gp\n",
        "\n",
        "CargaVeiculo = gp.Model() # Cria um modelo chamado CargaVeiculo\n",
        "\n",
        "# variáveis de decisão:\n",
        "x = CargaVeiculo.addVars(n, vtype = gp.GRB.INTEGER) # cria n variáveis inteiras\n",
        "\n",
        "# função objetivo:\n",
        "CargaVeiculo.setObjective(sum(V[i] * x[i] for i in range(n)), sense=gp.GRB.MAXIMIZE)\n",
        "\n",
        "# Restrições\n",
        "  # Restrição de peso máximo do veículo\n",
        "r1 = CargaVeiculo.addConstr(\n",
        "    sum(P[i] * x[i] for i in range(n)) <= Pmax\n",
        ")\n",
        "  # Restrição de quantidade máxima de cada item\n",
        "r2 = CargaVeiculo.addConstrs(\n",
        "    (x[i] <= Q[i] for i in range(n))\n",
        ")\n",
        "\n",
        "# Suprimindo console output\n",
        "CargaVeiculo.setParam('OutputFlag', 0)\n",
        "\n",
        "# Resolvendo o modelo\n",
        "CargaVeiculo.optimize()\n",
        "\n",
        "# Verificando status do modelo\n",
        "print(\"Status do modelo:  {}\".format(CargaVeiculo.status))\n",
        "if CargaVeiculo.status==2:\n",
        "  pesotot = 0\n",
        "  print(\"Valor ótimo = {:.0f}\".format(CargaVeiculo.objVal))\n",
        "  for i in range(n):\n",
        "    if round(x[i].x) > 0:\n",
        "      print(\" Item {} = {:.0f}\".format(i+1, x[i].x))\n",
        "      pesotot = pesotot + x[i].x * P[i]\n",
        "  print(\"Peso total ocupado: {:.0f}\".format(pesotot))\n",
        "  print(\"Solução ótima encontrada!\")\n",
        "else:\n",
        "  print(\"Solução ótima não encontrada!\")"
      ],
      "metadata": {
        "id": "AiokI53xEtn2",
        "colab": {
          "base_uri": "https://localhost:8080/"
        },
        "outputId": "31c55347-84ba-4b51-8a27-98cd4fce2224"
      },
      "execution_count": 19,
      "outputs": [
        {
          "output_type": "stream",
          "name": "stdout",
          "text": [
            "Status do modelo:  2\n",
            "Valor ótimo = 2099\n",
            " Item 6 = 5\n",
            " Item 50 = 11\n",
            " Item 84 = 17\n",
            " Item 97 = 17\n",
            "Peso total ocupado: 50\n",
            "Solução ótima encontrada!\n"
          ]
        }
      ]
    },
    {
      "cell_type": "code",
      "source": [
        "#Trabalho 1-\tExercício  1:\n",
        "#b)\n",
        "\n",
        "# Cria função para ler dados do txt\n",
        "def ler_dados(arquivo):\n",
        "    with open(arquivo, 'r') as f:\n",
        "        linhas = f.readlines()\n",
        "    Pmax = int(linhas[0].strip())  # Peso máximo\n",
        "    n = int(linhas[1].strip())  # Número de itens\n",
        "    P = []  # Peso do produto\n",
        "    V = []  # Valor do produto\n",
        "    Q = []  # Quantidade do produto\n",
        "\n",
        "    for i in range(2, 2 + n):  # Leitura das informações dos itens\n",
        "        p, v, q = map(int, linhas[i].split())\n",
        "        P.append(p)\n",
        "        V.append(v)\n",
        "        Q.append(q)\n",
        "\n",
        "    Incomp = [] # Leitura dos itens incompatíveis\n",
        "    for linha in linhas[2 + n:]:\n",
        "        p1, p2 = map(int, linha.split())\n",
        "        Incomp.append((p1, p2))\n",
        "\n",
        "    return Pmax, n, P, V, Q, Incomp\n",
        "\n",
        "arquivo = 'dados.txt'\n",
        "Pmax, n, P, V, Q, Incomp = ler_dados(arquivo)\n",
        "\n",
        "print(\"Peso Máximo suportado no veículo: {}\".format(Pmax))\n",
        "print(\"Número de itens disponíveis: {}\".format(n))\n",
        "print(\"Peso dos itens em ordem{}\".format(P))\n",
        "print(\"Valor dos itens em ordem {}\".format(V))\n",
        "print(\"Quantidade disponível em ordem: {}\".format(Q))\n",
        "print(\"Itens que não podem viajar juntos: {}\".format(Incomp))"
      ],
      "metadata": {
        "id": "es3kmC_DK0I8",
        "colab": {
          "base_uri": "https://localhost:8080/"
        },
        "outputId": "1f20ae07-3ecf-4dbe-89f7-5ff62427e88b"
      },
      "execution_count": 20,
      "outputs": [
        {
          "output_type": "stream",
          "name": "stdout",
          "text": [
            "Peso Máximo suportado no veículo: 50\n",
            "Número de itens disponíveis: 200\n",
            "Peso dos itens em ordem[4, 7, 5, 20, 4, 1, 7, 12, 6, 7, 11, 9, 11, 11, 1, 12, 13, 10, 8, 11, 19, 20, 6, 6, 17, 4, 5, 11, 7, 9, 19, 6, 19, 4, 14, 12, 11, 15, 18, 14, 17, 9, 14, 12, 2, 13, 7, 2, 7, 1, 5, 4, 7, 13, 4, 12, 18, 5, 10, 14, 17, 18, 7, 11, 20, 8, 12, 5, 1, 15, 5, 8, 7, 16, 8, 15, 18, 3, 6, 10, 11, 19, 18, 1, 13, 15, 10, 12, 6, 11, 17, 20, 4, 16, 14, 1, 1, 5, 5, 3, 14, 17, 10, 3, 15, 10, 13, 19, 20, 5, 14, 9, 12, 11, 16, 10, 2, 16, 6, 7, 4, 17, 4, 17, 10, 13, 5, 14, 2, 16, 16, 8, 13, 17, 19, 10, 16, 3, 4, 6, 12, 6, 12, 17, 17, 3, 20, 14, 9, 12, 12, 18, 15, 14, 10, 2, 8, 13, 4, 7, 16, 11, 18, 14, 13, 14, 3, 18, 7, 1, 20, 4, 5, 18, 19, 20, 18, 5, 17, 19, 12, 4, 10, 10, 7, 20, 19, 20, 2, 9, 7, 6, 5, 12, 12, 12, 16, 18, 14, 8]\n",
            "Valor dos itens em ordem [24, 41, 10, 47, 32, 35, 28, 13, 19, 24, 48, 17, 11, 31, 23, 11, 24, 41, 49, 49, 26, 28, 29, 40, 28, 23, 41, 38, 11, 35, 13, 31, 23, 39, 45, 46, 23, 25, 49, 19, 43, 32, 18, 43, 17, 29, 42, 48, 35, 42, 13, 20, 40, 21, 17, 11, 44, 39, 48, 25, 15, 45, 27, 45, 12, 28, 14, 24, 28, 15, 30, 35, 22, 27, 38, 18, 19, 13, 42, 19, 24, 43, 26, 50, 13, 29, 16, 39, 50, 43, 32, 49, 33, 24, 49, 33, 36, 17, 10, 19, 22, 29, 18, 41, 42, 18, 27, 19, 50, 38, 10, 44, 37, 19, 33, 48, 38, 29, 46, 46, 49, 49, 14, 48, 16, 45, 44, 27, 26, 23, 31, 25, 48, 16, 42, 48, 34, 25, 41, 50, 26, 31, 24, 38, 40, 20, 32, 44, 30, 39, 13, 35, 31, 17, 44, 50, 10, 22, 15, 38, 24, 19, 45, 48, 33, 50, 26, 31, 30, 12, 16, 36, 19, 14, 30, 21, 16, 50, 44, 44, 24, 16, 10, 37, 24, 34, 10, 32, 13, 15, 37, 10, 38, 13, 36, 26, 20, 25, 12, 50]\n",
            "Quantidade disponível em ordem: [17, 9, 7, 19, 16, 6, 18, 11, 17, 20, 19, 15, 9, 20, 15, 7, 9, 19, 7, 19, 19, 16, 16, 17, 20, 7, 19, 19, 20, 12, 11, 8, 11, 15, 16, 19, 12, 20, 8, 18, 9, 18, 7, 12, 5, 9, 14, 13, 13, 11, 10, 19, 12, 13, 9, 12, 14, 15, 18, 5, 6, 13, 15, 5, 9, 8, 7, 15, 11, 20, 17, 13, 15, 19, 14, 9, 8, 7, 16, 16, 12, 15, 9, 17, 18, 19, 18, 17, 18, 16, 16, 5, 18, 17, 8, 9, 17, 8, 10, 11, 6, 6, 5, 12, 18, 7, 9, 9, 6, 12, 17, 12, 8, 10, 5, 17, 13, 6, 12, 12, 11, 14, 14, 18, 12, 12, 5, 19, 14, 10, 9, 12, 7, 7, 18, 20, 5, 13, 18, 14, 5, 8, 14, 8, 18, 20, 7, 13, 7, 15, 8, 9, 18, 8, 10, 12, 20, 20, 5, 7, 5, 15, 6, 17, 19, 6, 7, 6, 15, 15, 18, 20, 11, 17, 20, 19, 12, 17, 19, 16, 7, 17, 16, 14, 15, 15, 14, 15, 12, 20, 12, 20, 15, 10, 10, 20, 17, 11, 14, 17]\n",
            "Itens que não podem viajar juntos: [(2, 50), (50, 84), (60, 65), (186, 12), (98, 123), (14, 50)]\n"
          ]
        }
      ]
    },
    {
      "cell_type": "code",
      "source": [
        "import gurobipy as gp\n",
        "\n",
        "CargaVeiculo = gp.Model()  # Cria um modelo chamado CargaVeiculo\n",
        "\n",
        "# Variáveis de decisão:\n",
        "x = CargaVeiculo.addVars(n, vtype=gp.GRB.INTEGER)  # Cria n variáveis inteiras\n",
        "y = CargaVeiculo.addVars(n, vtype=gp.GRB.BINARY)  # Cria n variáveis binárias\n",
        "\n",
        "# Função objetivo:\n",
        "CargaVeiculo.setObjective(sum(V[i] * x[i] for i in range(n)), sense=gp.GRB.MAXIMIZE)\n",
        "\n",
        "# Restrições\n",
        "  # Restrição de peso máximo do veículo\n",
        "r1 = CargaVeiculo.addConstr(\n",
        "    sum(P[i] * x[i] for i in range(n)) <= Pmax\n",
        ")\n",
        "  # Restrição de quantidade máxima de cada item\n",
        "r2 = CargaVeiculo.addConstrs(\n",
        "    (x[i] <= Q[i] for i in range(n))\n",
        ")\n",
        "  # Restrição binária de adição do item, considerando as quantidades dos itens\n",
        "r3 = CargaVeiculo.addConstrs(\n",
        "    (x[i] <= y[i] * Q[i] for i in range(n))\n",
        ")\n",
        "  # Restrição de incompatibilidade de itens\n",
        "r4 = CargaVeiculo.addConstrs(\n",
        "    (y[i-1] + y[j-1] <= 1 for (i, j) in Incomp)\n",
        ")\n",
        "\n",
        "# Suprimindo console output\n",
        "CargaVeiculo.setParam('OutputFlag', 0)\n",
        "\n",
        "# Resolvendo o modelo\n",
        "CargaVeiculo.optimize()\n",
        "\n",
        "# Verificando status do modelo\n",
        "print(\"Status do modelo:  {}\".format(CargaVeiculo.status))\n",
        "if CargaVeiculo.status == 2:\n",
        "    pesotot = 0\n",
        "    print(\"Valor ótimo = {:.0f}\".format(CargaVeiculo.objVal))\n",
        "    for i in range(n):\n",
        "      if round(x[i].x) > 0:\n",
        "          print(\" Item {} = {:.0f}\".format(i + 1, x[i].x))\n",
        "          pesotot = pesotot + x[i].x * P[i]\n",
        "    print(\"Peso total ocupado: {:.0f}\".format(pesotot))\n",
        "    print(\"Solução ótima encontrada!\")\n",
        "else:\n",
        "    print(\"Solução ótima não encontrada!\")"
      ],
      "metadata": {
        "colab": {
          "base_uri": "https://localhost:8080/"
        },
        "id": "Ir9Ro-9mK08s",
        "outputId": "21d1d126-95ba-4e3f-c141-42acfb18256e"
      },
      "execution_count": 21,
      "outputs": [
        {
          "output_type": "stream",
          "name": "stdout",
          "text": [
            "Status do modelo:  2\n",
            "Valor ótimo = 1997\n",
            " Item 6 = 6\n",
            " Item 69 = 1\n",
            " Item 84 = 17\n",
            " Item 96 = 9\n",
            " Item 97 = 17\n",
            "Peso total ocupado: 50\n",
            "Solução ótima encontrada!\n"
          ]
        }
      ]
    }
  ]
}