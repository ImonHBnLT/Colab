{
  "nbformat": 4,
  "nbformat_minor": 0,
  "metadata": {
    "colab": {
      "provenance": [],
      "name": "prog_linear_pesq_operacional_carga_veiculo.ipynb",
      "authorship_tag": "ABX9TyPfCMMAOOZfQjqbcc58vaDu",
      "include_colab_link": true
    },
    "kernelspec": {
      "name": "python3",
      "display_name": "Python 3"
    },
    "language_info": {
      "name": "python"
    }
  },
  "cells": [
    {
      "cell_type": "markdown",
      "metadata": {
        "id": "view-in-github",
        "colab_type": "text"
      },
      "source": [
        "<a href=\"https://colab.research.google.com/github/ImonHBnLT/Colab/blob/main/prog_linear_pesq_operacional_carga_veiculo.ipynb\" target=\"_parent\"><img src=\"https://colab.research.google.com/assets/colab-badge.svg\" alt=\"Open In Colab\"/></a>"
      ]
    },
    {
      "cell_type": "code",
      "source": [
        "!pip install gurobipy"
      ],
      "metadata": {
        "colab": {
          "base_uri": "https://localhost:8080/"
        },
        "id": "VE8JUpwOLWBq",
        "outputId": "a7db9ad0-1ca1-4101-806d-df42d2e400d1"
      },
      "execution_count": null,
      "outputs": [
        {
          "output_type": "stream",
          "name": "stdout",
          "text": [
            "Collecting gurobipy\n",
            "  Downloading gurobipy-11.0.3-cp310-cp310-manylinux2014_x86_64.manylinux_2_17_x86_64.whl.metadata (15 kB)\n",
            "Downloading gurobipy-11.0.3-cp310-cp310-manylinux2014_x86_64.manylinux_2_17_x86_64.whl (13.4 MB)\n",
            "\u001b[2K   \u001b[90m━━━━━━━━━━━━━━━━━━━━━━━━━━━━━━━━━━━━━━━━\u001b[0m \u001b[32m13.4/13.4 MB\u001b[0m \u001b[31m20.8 MB/s\u001b[0m eta \u001b[36m0:00:00\u001b[0m\n",
            "\u001b[?25hInstalling collected packages: gurobipy\n",
            "Successfully installed gurobipy-11.0.3\n"
          ]
        }
      ]
    },
    {
      "cell_type": "code",
      "execution_count": null,
      "metadata": {
        "id": "VRAHz2L7EoBH"
      },
      "outputs": [],
      "source": [
        "#Trabalho 1-\tExercício  1:\n",
        "#a)\n",
        "\n",
        "# Cria função para ler dados do txt\n",
        "def ler_dados(arquivo):\n",
        "  with open(arquivo, 'r') as f:\n",
        "    linhas = f.readlines()\n",
        "  Pmax = int(linhas[0].strip()) # Peso máximo\n",
        "  n = int(linhas[1].strip()) # Itens disponiveis\n",
        "  P = [] # Peso do produto\n",
        "  V = [] # Valor do produto\n",
        "  Q = [] # Quantidade do produto\n",
        "\n",
        "  for i in range(2, 2+n): # Leitura das informações dos itens\n",
        "    p, v, q = map(int, linhas[i].split())\n",
        "    P.append(p)\n",
        "    V.append(v)\n",
        "    Q.append(q)\n",
        "\n",
        "  return n, Pmax, P, V, Q\n",
        "\n",
        "arquivo='dados.txt'\n",
        "n, Pmax, P, V, Q = ler_dados(arquivo)"
      ]
    },
    {
      "cell_type": "code",
      "source": [
        "#Trabalho 1- Exercício 1:\n",
        "#a)\n",
        "\n",
        "import gurobipy as gp\n",
        "\n",
        "CargaVeiculo = gp.Model() # Cria um modelo chamado CargaVeiculo\n",
        "\n",
        "# variáveis de decisão:\n",
        "x = CargaVeiculo.addVars(n, vtype = gp.GRB.INTEGER) # cria n variáveis inteiras\n",
        "\n",
        "# função objetivo:\n",
        "CargaVeiculo.setObjective(sum(V[i] * x[i] for i in range(n)), sense=gp.GRB.MAXIMIZE)\n",
        "\n",
        "# Restrições\n",
        "  # Restrição de peso máximo do veículo\n",
        "r1 = CargaVeiculo.addConstr(\n",
        "    sum(P[i] * x[i] for i in range(n)) <= Pmax\n",
        ")\n",
        "  # Restrição de quantidade máxima de cada item\n",
        "r2 = CargaVeiculo.addConstrs(\n",
        "    (x[i] <= Q[i] for i in range(n))\n",
        ")\n",
        "\n",
        "# Suprimindo console output\n",
        "CargaVeiculo.setParam('OutputFlag', 0)\n",
        "\n",
        "# Resolvendo o modelo\n",
        "CargaVeiculo.optimize()\n",
        "\n",
        "# Verificando status do modelo\n",
        "print(\"Status do modelo:  {}\".format(CargaVeiculo.status))\n",
        "if CargaVeiculo.status==2:\n",
        "  pesotot = 0\n",
        "  print(\"Valor ótimo = {:.0f}\".format(CargaVeiculo.objVal))\n",
        "  for i in range(n):\n",
        "    if round(x[i].x) > 0:\n",
        "      print(\" Item {} = {:.0f}\".format(i+1, x[i].x))\n",
        "      pesotot = pesotot + x[i].x * P[i]\n",
        "  print(\"Peso total ocupado: {:.0f}\".format(pesotot))\n",
        "  print(\"Solução ótima encontrada!\")\n",
        "else:\n",
        "  print(\"Solução ótima não encontrada!\")"
      ],
      "metadata": {
        "id": "AiokI53xEtn2",
        "colab": {
          "base_uri": "https://localhost:8080/"
        },
        "outputId": "e1f5769d-ff2c-4d9a-a829-f4fe7a6ddd18"
      },
      "execution_count": null,
      "outputs": [
        {
          "output_type": "stream",
          "name": "stdout",
          "text": [
            "Status do modelo:  2\n",
            "Valor ótimo = 2099\n",
            " Item 6 = 5\n",
            " Item 50 = 11\n",
            " Item 84 = 17\n",
            " Item 97 = 17\n",
            "Peso total ocupado: 50\n",
            "Solução ótima encontrada!\n"
          ]
        }
      ]
    },
    {
      "cell_type": "code",
      "source": [
        "#Trabalho 1-\tExercício  1:\n",
        "#b)\n",
        "\n",
        "# Cria função para ler dados do txt\n",
        "def ler_dados(arquivo):\n",
        "    with open(arquivo, 'r') as f:\n",
        "        linhas = f.readlines()\n",
        "    Pmax = int(linhas[0].strip())  # Peso máximo\n",
        "    n = int(linhas[1].strip())  # Número de itens\n",
        "    P = []  # Peso do produto\n",
        "    V = []  # Valor do produto\n",
        "    Q = []  # Quantidade do produto\n",
        "\n",
        "    for i in range(2, 2 + n):  # Leitura das informações dos itens\n",
        "        p, v, q = map(int, linhas[i].split())\n",
        "        P.append(p)\n",
        "        V.append(v)\n",
        "        Q.append(q)\n",
        "\n",
        "    Incomp = [] # Leitura dos itens incompatíveis\n",
        "    for linha in linhas[2 + n:]:\n",
        "        p1, p2 = map(int, linha.split())\n",
        "        Incomp.append((p1, p2))\n",
        "\n",
        "    return Pmax, n, P, V, Q, Incomp\n",
        "\n",
        "arquivo = 'dados.txt'\n",
        "Pmax, n, P, V, Q, Incomp = ler_dados(arquivo)"
      ],
      "metadata": {
        "id": "es3kmC_DK0I8"
      },
      "execution_count": null,
      "outputs": []
    },
    {
      "cell_type": "code",
      "source": [
        "import gurobipy as gp\n",
        "\n",
        "CargaVeiculo = gp.Model()  # Cria um modelo chamado CargaVeiculo\n",
        "\n",
        "# Variáveis de decisão:\n",
        "x = CargaVeiculo.addVars(n, vtype=gp.GRB.INTEGER)  # Cria n variáveis inteiras\n",
        "y = CargaVeiculo.addVars(n, vtype=gp.GRB.BINARY)  # Cria n variáveis binárias\n",
        "\n",
        "# Função objetivo:\n",
        "CargaVeiculo.setObjective(sum(V[i] * x[i] for i in range(n)), sense=gp.GRB.MAXIMIZE)\n",
        "\n",
        "# Restrições\n",
        "  # Restrição de peso máximo do veículo\n",
        "r1 = CargaVeiculo.addConstr(\n",
        "    sum(P[i] * x[i] for i in range(n)) <= Pmax\n",
        ")\n",
        "  # Restrição de quantidade máxima de cada item\n",
        "r2 = CargaVeiculo.addConstrs(\n",
        "    (x[i] <= Q[i] for i in range(n))\n",
        ")\n",
        "  # Restrição binária de adição do item, considerando as quantidades dos itens\n",
        "r3 = CargaVeiculo.addConstrs(\n",
        "    (x[i] <= y[i] * Q[i] for i in range(n))\n",
        ")\n",
        "  # Restrição de incompatibilidade de itens\n",
        "r4 = CargaVeiculo.addConstrs(\n",
        "    (y[i-1] + y[j-1] <= 1 for (i, j) in Incomp)\n",
        ")\n",
        "\n",
        "# Suprimindo console output\n",
        "CargaVeiculo.setParam('OutputFlag', 0)\n",
        "\n",
        "# Resolvendo o modelo\n",
        "CargaVeiculo.optimize()\n",
        "\n",
        "# Verificando status do modelo\n",
        "print(\"Status do modelo:  {}\".format(CargaVeiculo.status))\n",
        "if CargaVeiculo.status == 2:\n",
        "    print(\"Valor ótimo = {:.0f}\".format(CargaVeiculo.objVal))\n",
        "    for i in range(n):\n",
        "      pesotot = 0\n",
        "      if round(x[i].x) > 0:\n",
        "          print(\" Item {} = {:.0f}\".format(i + 1, x[i].x))\n",
        "          pesotot = pesotot + x[i].x * P[i]\n",
        "    print(\"Peso total ocupado: {:.0f}\".format(pesotot))\n",
        "    print(\"Solução ótima encontrada!\")\n",
        "else:\n",
        "    print(\"Solução ótima não encontrada!\")"
      ],
      "metadata": {
        "colab": {
          "base_uri": "https://localhost:8080/"
        },
        "id": "Ir9Ro-9mK08s",
        "outputId": "133226c4-7d94-4520-a9b9-d85be56ee8ea"
      },
      "execution_count": null,
      "outputs": [
        {
          "output_type": "stream",
          "name": "stdout",
          "text": [
            "Status do modelo:  2\n",
            "Valor ótimo = 1997\n",
            " Item 6 = 6\n",
            " Item 69 = 1\n",
            " Item 84 = 17\n",
            " Item 96 = 9\n",
            " Item 97 = 17\n",
            "Peso total ocupado: 0\n",
            "Solução ótima encontrada!\n"
          ]
        }
      ]
    }
  ]
}