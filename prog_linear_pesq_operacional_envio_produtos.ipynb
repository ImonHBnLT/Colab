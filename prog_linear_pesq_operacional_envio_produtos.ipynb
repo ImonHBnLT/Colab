{
  "nbformat": 4,
  "nbformat_minor": 0,
  "metadata": {
    "colab": {
      "provenance": [],
      "authorship_tag": "ABX9TyMVRbibWXhvpIxEXffDJP0m",
      "include_colab_link": true
    },
    "kernelspec": {
      "name": "python3",
      "display_name": "Python 3"
    },
    "language_info": {
      "name": "python"
    }
  },
  "cells": [
    {
      "cell_type": "markdown",
      "metadata": {
        "id": "view-in-github",
        "colab_type": "text"
      },
      "source": [
        "<a href=\"https://colab.research.google.com/github/ImonHBnLT/Colab/blob/main/prog_linear_pesq_operacional_envio_produtos.ipynb\" target=\"_parent\"><img src=\"https://colab.research.google.com/assets/colab-badge.svg\" alt=\"Open In Colab\"/></a>"
      ]
    },
    {
      "cell_type": "code",
      "execution_count": 8,
      "metadata": {
        "colab": {
          "base_uri": "https://localhost:8080/"
        },
        "id": "LfR6MRCRlNkb",
        "outputId": "5bf942ea-fd9e-4098-fc26-32ec7f0d9001"
      },
      "outputs": [
        {
          "output_type": "stream",
          "name": "stdout",
          "text": [
            "Requirement already satisfied: gurobipy in /usr/local/lib/python3.10/dist-packages (11.0.3)\n"
          ]
        }
      ],
      "source": [
        "!pip install gurobipy"
      ]
    },
    {
      "cell_type": "code",
      "source": [
        "# Estoque das fábricas\n",
        "E = [[1200, 1100, 1000, 2000],\n",
        "     [1500, 1400, 700, 1500]]\n",
        "\n",
        "# Demanda dos clientes\n",
        "D = [[600, 960, 550, 1100],\n",
        "     [855, 380, 700, 970],\n",
        "     [720, 1120, 250, 1360]]\n",
        "\n",
        "# Custos de envio produto x fábrica x cliente\n",
        "S = [[[0.30, 1.62, 3.20, 2.00], [0.55, 2.00, 3.00, 1.90]],\n",
        "     [[0.50, 2.00, 4.00, 3.60], [0.21, 1.60, 3.00, 2.80]],\n",
        "     [[0.42, 1.90, 3.85, 3.00], [0.32, 1.60, 3.00, 2.80]]]\n",
        "\n",
        "# número de fábricas\n",
        "n = len(E)\n",
        "# número de clientes\n",
        "m = len(D)\n",
        "# número de produtos\n",
        "o = len(E[0])"
      ],
      "metadata": {
        "id": "LDYIxHWMlb9D"
      },
      "execution_count": 9,
      "outputs": []
    },
    {
      "cell_type": "code",
      "source": [
        "import gurobipy as gp\n",
        "\n",
        "# Cria um modelo chamado distribuicao\n",
        "distribuicao = gp.Model()\n",
        "\n",
        "# Variáveis de decisão\n",
        "x = distribuicao.addVars(n, m, o, vtype=gp.GRB.CONTINUOUS)\n",
        "\n",
        "# Função objetivo:\n",
        "distribuicao.setObjective(sum(S[j][i][k] * x[i,j,k] for i in range(n) for j in range(m) for k in range(o)), sense=gp.GRB.MINIMIZE\n",
        ")\n",
        "\n",
        "# Restrições\n",
        "r1 = distribuicao.addConstrs(\n",
        "    sum(x[i,j,k] for i in range(n)) == D[j][k]\n",
        "    for j in range(m)\n",
        "    for k in range(o)\n",
        ")\n",
        "r2 = distribuicao.addConstrs(\n",
        "    sum(x[i,j,k] for j in range(m)) <= E[i][k]\n",
        "    for i in range(n)\n",
        "    for k in range(o)\n",
        ")\n",
        "\n",
        "# Suprimindo console output\n",
        "distribuicao.setParam('OutputFlag', 0)\n",
        "\n",
        "# Resolvendo o modelo\n",
        "distribuicao.optimize()\n",
        "\n",
        "# Verificando status do modelo\n",
        "print(\"Status do modelo:  {}\".format(distribuicao.status))\n",
        "if distribuicao.status == 2:\n",
        "  print(\"Valor ótimo = {:.2f}\".format(distribuicao.objVal))\n",
        "\n",
        "  for i in range(n):\n",
        "    for j in range(m):\n",
        "      for k in range(o):\n",
        "          if x[i,j,k].x > 0:\n",
        "            print(\"Da fábrica {}: para o cliente {} - enviar {:4.0f} unidades do produto {}.\"\n",
        "              .format(i+1, j+1, x[i,j,k].x, k+1))\n",
        "    print(\"---\")\n",
        "  print(\"Solução ótima encontrada!\")\n",
        "else:\n",
        "  print(\"Solução ótima não encontrada!\")"
      ],
      "metadata": {
        "colab": {
          "base_uri": "https://localhost:8080/"
        },
        "id": "7N3bEsmule-t",
        "outputId": "08db640d-d1ba-4d04-be78-a6f35b6dbb90"
      },
      "execution_count": 10,
      "outputs": [
        {
          "output_type": "stream",
          "name": "stdout",
          "text": [
            "Status do modelo:  2\n",
            "Valor ótimo = 18295.15\n",
            "Da fábrica 1: para o cliente 1 - enviar  600 unidades do produto 1.\n",
            "Da fábrica 1: para o cliente 1 - enviar  960 unidades do produto 2.\n",
            "Da fábrica 1: para o cliente 1 - enviar  550 unidades do produto 3.\n",
            "Da fábrica 1: para o cliente 1 - enviar 1100 unidades do produto 4.\n",
            "Da fábrica 1: para o cliente 3 - enviar   75 unidades do produto 1.\n",
            "Da fábrica 1: para o cliente 3 - enviar  100 unidades do produto 2.\n",
            "Da fábrica 1: para o cliente 3 - enviar  250 unidades do produto 3.\n",
            "Da fábrica 1: para o cliente 3 - enviar  830 unidades do produto 4.\n",
            "---\n",
            "Da fábrica 2: para o cliente 2 - enviar  855 unidades do produto 1.\n",
            "Da fábrica 2: para o cliente 2 - enviar  380 unidades do produto 2.\n",
            "Da fábrica 2: para o cliente 2 - enviar  700 unidades do produto 3.\n",
            "Da fábrica 2: para o cliente 2 - enviar  970 unidades do produto 4.\n",
            "Da fábrica 2: para o cliente 3 - enviar  645 unidades do produto 1.\n",
            "Da fábrica 2: para o cliente 3 - enviar 1020 unidades do produto 2.\n",
            "Da fábrica 2: para o cliente 3 - enviar  530 unidades do produto 4.\n",
            "---\n",
            "Solução ótima encontrada!\n"
          ]
        }
      ]
    }
  ]
}