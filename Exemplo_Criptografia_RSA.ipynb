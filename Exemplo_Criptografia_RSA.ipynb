{
  "nbformat": 4,
  "nbformat_minor": 0,
  "metadata": {
    "colab": {
      "provenance": [],
      "include_colab_link": true
    },
    "kernelspec": {
      "name": "python3",
      "display_name": "Python 3"
    },
    "language_info": {
      "name": "python"
    }
  },
  "cells": [
    {
      "cell_type": "markdown",
      "metadata": {
        "id": "view-in-github",
        "colab_type": "text"
      },
      "source": [
        "<a href=\"https://colab.research.google.com/github/ImonHBnLT/Colab/blob/main/Exemplo_Criptografia_RSA.ipynb\" target=\"_parent\"><img src=\"https://colab.research.google.com/assets/colab-badge.svg\" alt=\"Open In Colab\"/></a>"
      ]
    },
    {
      "cell_type": "code",
      "execution_count": 2,
      "metadata": {
        "id": "0s-pbRa2wG7A",
        "colab": {
          "base_uri": "https://localhost:8080/"
        },
        "outputId": "814cf130-2e6b-4389-c072-3de0cffc0394"
      },
      "outputs": [
        {
          "output_type": "stream",
          "name": "stdout",
          "text": [
            "P: 7\n",
            "Q: 239\n",
            "N: 1673\n",
            "Z: 1428\n",
            "D: 313\n",
            "E: 73\n",
            "\n",
            "\n",
            "\n",
            "Chaves publicas: E: 73  e N: 1673\n",
            "Chaves privadas: D: 313  e N: 1673\n"
          ]
        }
      ],
      "source": [
        "import math\n",
        "import random\n",
        "\n",
        "#função para gerar primos de forma aleatoria:\n",
        "def gerar_primo():\n",
        "  primo = random.randint(2, 1000)         #função gera um numero de forma aleatoria entre 2 e 1000 e armazena na variavel primo.\n",
        "  while not ver_primos(primo):            #loop chama a função ver_primos para verificar se o numero aleatorio é primo.\n",
        "    primo = random.randint(2, 1000)       #caso o resultado da verificação for negativo, um novo número aleatório é gerado na variavel primo.\n",
        "  return primo                            #o loop ocorre enquanto a função ver_primos retorna falso. Ao retornar positivo, o numero primo gerado é retornado.\n",
        "\n",
        "#função para verificar se o numero é primo:\n",
        "def ver_primos(n):\n",
        "  if n <= 1:\n",
        "    return False                          #se o suposto primo for menor ou igual 1, retorna falso (negativos, 0 e 1).\n",
        "  if n <= 3:\n",
        "    return True                           #se o suposto primo for menor ou igual a 3, retorna verdadeiro (2 e 3).\n",
        "  if n % 2 == 0 or n % 3 == 0:\n",
        "    return False                          #se o suposto primo for divisivel por 2 ou 3 com resto 0, retorna falso.\n",
        "  i = 5                                   #iniciando a variavel i (5, primeiro primo depois de 2 e 3).\n",
        "  while i * i <= n:\n",
        "    if n % i == 0 or n % (i+2) == 0:\n",
        "      return False                        #caso o resto das divisões do suposto primo pelo valor de i ou i+2 seja 0, retorna falso.\n",
        "    i += 6                                #aumento do valor de i.\n",
        "  return True                             #o loop ocorre enquanto i elevado a 2 for menor que o suposto primo. Não existe necessidade de verificar todas as divisões. Se ao finalizar o loop não houver retorno falso, retorna verdadeiro.\n",
        "\n",
        "#função para gerar primo de Z (D):\n",
        "def gerar_primo_z(Z):\n",
        "  D = random.randint(2, Z)                              #gera numero aleatório entre 2 e Z, e armazena na variavel D.\n",
        "  while not ver_primos(D) or math.gcd(D, Z) != 1:       #loop chama 2 funções: uma para verificar que o numero é primo, e outra para verificar o maior divisor comum entre D e Z (se o MDC de D for diferende 1, o número não é primo).\n",
        "    D = random.randint(2, Z)                            #caso a verificação de primos volte falsa E o MDC seja diferente de 1, outro aleatório é gerado para D.\n",
        "  return D                                              #o loop ocorrre entquanto enquanto ambas verificações retornam falsas. Senão, a função retorna o valor de D.\n",
        "\n",
        "#função para encontrar E (Mod Reverso // inverso modular):\n",
        "def mod_reverso(D, Z):\n",
        "  mdc, x, y = maiordivcom(D, Z)                         #declara 3 variaveis e inicia com os resultados da função maiordivcom, que irá calcular o MDC de D e Z.\n",
        "  if mdc != 1:\n",
        "    raise ValueError(\"O inverso modular não existe.\")   #se o resultado do MDC for diferente de 1, a função irá acusar erro pela inexistência do mesmo.\n",
        "  return x % Z                                          #caso ontrário, o retorno feito é o mod de x por Z (E).\n",
        "\n",
        "#função auxiliar para encontrar E (MDC):\n",
        "def maiordivcom(D, Z):\n",
        "  if D == 0:\n",
        "    return Z, 0, 1                                      #caso D seja 0, a funcão retorna os valores de Z, x e y.\n",
        "  mdc, x1, y1 = maiordivcom(Z % D, D)                   #caso contrário, chama recursivamente a si propria, alterando o primeiro parametro para ser um mod de Z divido por D. O resultado é gravado nas variaveis mdc, x1 e y1, utilizadas para chamar novamente a função.\n",
        "  x = y1 - (Z // D) * x1                                #inicia x com o resultado da equação de divisão inteira de Z por D multiplicado pelo valor de X1 (a atualização do valor de D), tudo isso subtraído de y1 (atualização do valor de Z).\n",
        "  y = x1                                                #inicia y com o valor de x1, atualização do valor de D.\n",
        "  return mdc, x, y                                      #retorna para a função os resultados obtidos e gravados em mdc, x1 e y1. Esse retorno irá voltar para a própria função, chamada anteriormente. Quando a condição if for cumprida, as chamadas da função irão se encerrando na segunda linha, até retonar à função mod_reverso.\n",
        "\n",
        "\n",
        "#gerar 2 primos aleatórios:\n",
        "P = gerar_primo()           #inicializa P com um primo qualquer.\n",
        "Q = gerar_primo()           #inicializa Q com um primo qualquer.\n",
        "#gerar valores de N e Z:\n",
        "N = P * Q                   #inicializa N com o calculo da formula.\n",
        "Z = (P-1)*(Q-1)             #inicializa Z com o calculo da formula.\n",
        "#gerar primo de Z:\n",
        "D = gerar_primo_z(Z)        #inicializa D com o resultado da função.\n",
        "#gerar E:\n",
        "E = mod_reverso(D, Z)       #inicializa E com o resultado da função.\n",
        "\n",
        "\n",
        "print(\"P:\", P)\n",
        "print(\"Q:\", Q)\n",
        "print(\"N:\", N)\n",
        "print(\"Z:\", Z)\n",
        "print(\"D:\", D)\n",
        "print(\"E:\", E)\n",
        "\n",
        "\n",
        "print('\\n\\n')\n",
        "\n",
        "\n",
        "print(\"Chaves publicas: E:\" , E, \" e N:\", N)\n",
        "print(\"Chaves privadas: D:\" , D, \" e N:\", N)"
      ]
    },
    {
      "cell_type": "code",
      "source": [
        "#--- PROGRAMA PARA CRIPTOGRAFAR ---\n",
        "#função para encriptografar com chaves publicas\n",
        "def encriptar_texto(texto, E, N):\n",
        "  valor_ascii = [ord(ch) for ch in texto]                                                 #quebra o texto de acordo com a tabela ASCII, e ordena os resultados numa única linha.\n",
        "  encriptado = [(val ** E) % N for val in valor_ascii]                                    #utiliza os valores de E e N para calcular a criptografia de cada caractere no seu valor ASCII.\n",
        "  encriptado = ''.join(chr(val) for val in encriptado).encode('utf-8').decode('utf-8')    #retorna os valores de ASCII para caracteres, e os junta em uma única linha.\n",
        "  return encriptado\n",
        "\n",
        "# Receber valores de E e N\n",
        "E = int(input(\"Digite o valor de E: \"))\n",
        "N = int(input(\"Digite o valor de N: \"))\n",
        "print('\\n\\n')\n",
        "\n",
        "# Receber texto do usuário\n",
        "texto_original = input(\"Digite o texto a ser criptografado: \")\n",
        "print('\\n\\n')\n",
        "\n",
        "\n",
        "# Criptografar o texto\n",
        "texto_criptografado = encriptar_texto(texto_original, E, N)\n",
        "print(\"Texto criptografado:\", texto_criptografado)"
      ],
      "metadata": {
        "id": "734iBw6Aw4KU",
        "colab": {
          "base_uri": "https://localhost:8080/"
        },
        "outputId": "8e130bae-4c77-47f5-c556-10a41303abe6"
      },
      "execution_count": 5,
      "outputs": [
        {
          "output_type": "stream",
          "name": "stdout",
          "text": [
            "Digite o valor de E: 73\n",
            "Digite o valor de N: 1673\n",
            "\n",
            "\n",
            "\n",
            "Digite o texto a ser criptografado: O símbolo representativo do parágrafo é §, sendo formado por ss estrelaçados que se referem às iniciais das palavras em latim signum sectionis, que significam sinal de separação. Este sinal gráfico é pouco utilizado, aparecendo maioritariamente na indicação de divisões em artigos de lei: § 1.º; § 2.º; § 3.º; § 25; §\n",
            "\n",
            "\n",
            "\n",
            "Texto criptografado: ĀҾɼՙφLҰLĀєҔ\u000eєҔҾҔБҀёҀç§LĀֲLĀ\u000eёєԳ֧єё˜LĀ̼ĀיdĀҾҔБֲLĀ˜LєՙёֲLĀ\u000eLєĀҾҾĀҔҾҀєҔҰё̬ёֲLҾĀϸӎҔĀҾҔĀєҔ˜ҔєҔՙĀѮҾĀçБç֣çёçҾĀֲёҾĀ\u000eёҰё§єёҾĀҔՙĀҰёҀçՙĀҾç֧БӎՙĀҾҔ֣ҀçLБçҾdĀϸӎҔĀҾç֧Бç˜ç֣ёՙĀҾçБёҰĀֲҔĀҾҔ\u000eёєё̬ɲLʏĀקҾҀҔĀҾçБёҰĀ֧єԳ˜ç֣LĀ̼Ā\u000eLӎ֣LĀӎҀçҰçʪёֲLdĀё\u000eёєҔ֣ҔБֲLĀՙёçLєçҀёєçёՙҔБҀҔĀБёĀçБֲç֣ё̬ɲLĀֲҔĀֲç§çҾԫҔҾĀҔՙĀёєҀç֧LҾĀֲҔĀҰҔçɱĀיĀؙʏı¹ĀיĀώʏı¹ĀיĀĶʏı¹ĀיĀώه¹Āי\n"
          ]
        }
      ]
    },
    {
      "cell_type": "code",
      "source": [
        "#--- PROGRAMA PARA DESCRIPTOGRAFAR ---\n",
        "#função para descriptografar com chaves privadas\n",
        "def descriptar_texto(texto, D, N):\n",
        "  texto = [ord(ch) for ch in texto]                                                       #quebra o texto de acordo com a tabela ASCII, e ordena os resultados em uma única linha.\n",
        "  descriptado = [(val ** D) % N for val in texto]                                         #utiliza os valores de D e N para calcular a descriptografia de cada caractere no seu valor ASCII.\n",
        "  descriptado = ''.join(chr(val) for val in descriptado)                                  #retorna os valores de ASCII para caracteres, e os junta em uma única linha.\n",
        "  return descriptado\n",
        "\n",
        "# Receber valores de D e N\n",
        "D = int(input(\"Digite o valor de D: \"))\n",
        "N = int(input(\"Digite o valor de N: \"))\n",
        "print('\\n\\n')\n",
        "\n",
        "# Receber texto criptografado do usuário\n",
        "texto_criptografado = input(\"Digite o texto a ser descriptografado: \")\n",
        "print('\\n\\n')\n",
        "\n",
        "\n",
        "# Descriptografar o texto\n",
        "texto_descriptografado = descriptar_texto(texto_criptografado, D, N)\n",
        "print(\"Texto descriptografado:\", texto_descriptografado)"
      ],
      "metadata": {
        "id": "g_hJ9Fj9w-MM",
        "colab": {
          "base_uri": "https://localhost:8080/"
        },
        "outputId": "131435d1-0da4-45f0-c8d7-f1a6f1ed4e9a"
      },
      "execution_count": 6,
      "outputs": [
        {
          "output_type": "stream",
          "name": "stdout",
          "text": [
            "Digite o valor de D: 313\n",
            "Digite o valor de N: 1673\n",
            "\n",
            "\n",
            "\n",
            "Digite o texto a ser descriptografado: ĀҾɼՙφLҰLĀєҔ\u000eєҔҾҔБҀёҀç§LĀֲLĀ\u000eёєԳ֧єё˜LĀ̼ĀיdĀҾҔБֲLĀ˜LєՙёֲLĀ\u000eLєĀҾҾĀҔҾҀєҔҰё̬ёֲLҾĀϸӎҔĀҾҔĀєҔ˜ҔєҔՙĀѮҾĀçБç֣çёçҾĀֲёҾĀ\u000eёҰё§єёҾĀҔՙĀҰёҀçՙĀҾç֧БӎՙĀҾҔ֣ҀçLБçҾdĀϸӎҔĀҾç֧Бç˜ç֣ёՙĀҾçБёҰĀֲҔĀҾҔ\u000eёєё̬ɲLʏĀקҾҀҔĀҾçБёҰĀ֧єԳ˜ç֣LĀ̼Ā\u000eLӎ֣LĀӎҀçҰçʪёֲLdĀё\u000eёєҔ֣ҔБֲLĀՙёçLєçҀёєçёՙҔБҀҔĀБёĀçБֲç֣ё̬ɲLĀֲҔĀֲç§çҾԫҔҾĀҔՙĀёєҀç֧LҾĀֲҔĀҰҔçɱĀיĀؙʏı¹ĀיĀώʏı¹ĀיĀĶʏı¹ĀיĀώه¹Āי\n",
            "\n",
            "\n",
            "\n",
            "Texto descriptografado: O símbolo representativo do parágrafo é §, sendo formado por ss estrelaçados que se referem às iniciais das palavras em latim signum sectionis, que significam sinal de separação. Este sinal gráfico é pouco utilizado, aparecendo maioritariamente na indicação de divisões em artigos de lei: § 1.º; § 2.º; § 3.º; § 25; §\n"
          ]
        }
      ]
    }
  ]
}